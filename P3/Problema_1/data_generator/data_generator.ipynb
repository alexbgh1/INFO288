{
 "cells": [
  {
   "cell_type": "code",
   "execution_count": 5,
   "metadata": {},
   "outputs": [],
   "source": [
    "import random\n",
    "import json"
   ]
  },
  {
   "cell_type": "code",
   "execution_count": 6,
   "metadata": {},
   "outputs": [
    {
     "data": {
      "text/plain": [
       "[{'id': 40000, 'categoria': 'Comida', 'nombre': 'Pan', 'precio': 150},\n",
       " {'id': 40001, 'categoria': 'Comida', 'nombre': 'Centella', 'precio': 400},\n",
       " {'id': 40002, 'categoria': 'Comida', 'nombre': 'Frugele', 'precio': 100}]"
      ]
     },
     "execution_count": 6,
     "metadata": {},
     "output_type": "execute_result"
    }
   ],
   "source": [
    "# La información a generar tiene este formato:\n",
    "\n",
    "[\n",
    "  {\n",
    "    \"id\": 40000,\n",
    "    \"categoria\": \"Comida\",\n",
    "    \"nombre\": \"Pan\",\n",
    "    \"precio\": 150\n",
    "  },\n",
    "  {\n",
    "    \"id\": 40001,\n",
    "    \"categoria\": \"Comida\",\n",
    "    \"nombre\": \"Centella\",\n",
    "    \"precio\": 400\n",
    "  },\n",
    "  {\n",
    "    \"id\": 40002,\n",
    "    \"categoria\": \"Comida\",\n",
    "    \"nombre\": \"Frugele\",\n",
    "    \"precio\": 100\n",
    "  }\n",
    "]"
   ]
  },
  {
   "cell_type": "code",
   "execution_count": 7,
   "metadata": {},
   "outputs": [],
   "source": [
    "params = [{\n",
    "    \"id_from\": 100_000,\n",
    "    \"id_to\": 100_100,\n",
    "    \"category\": \"Ropa\",\n",
    "    \"product_max_name_length\": 5,\n",
    "},\n",
    "{\n",
    "    \"id_from\": 200_000,\n",
    "    \"id_to\": 200_100,\n",
    "    \"category\": \"Computacion\",\n",
    "    \"product_max_name_length\": 5,\n",
    "},\n",
    "{\n",
    "    \"id_from\": 300_000,\n",
    "    \"id_to\": 300_100,\n",
    "    \"category\": \"Hogar\",\n",
    "    \"product_max_name_length\": 5,\n",
    "}\n",
    "]"
   ]
  },
  {
   "cell_type": "code",
   "execution_count": 8,
   "metadata": {},
   "outputs": [],
   "source": [
    "for param in params:\n",
    "    id_from = param['id_from']\n",
    "    id_to = param['id_to']\n",
    "    category_name = param['category']\n",
    "\n",
    "    product_name = 'abcdefghijlmnopqrstuvwxyz'\n",
    "    product_max_name_length = param['product_max_name_length']\n",
    "\n",
    "    products_name = [\n",
    "        ''.join(random.choices(product_name, k=random.randint(1, product_max_name_length)))\n",
    "        for i in range(100)\n",
    "        \n",
    "    ]\n",
    "    prices = [ i*10+100 for i in range(90)]\n",
    "    # save in  a .json file\n",
    "    with open(category_name.lower() + '.json', 'w') as file:\n",
    "        file.write('[')\n",
    "        for i in range(id_from, id_to):\n",
    "            product = {\n",
    "                \"id\": i,\n",
    "                \"categoria\": category_name,\n",
    "                \"nombre\": random.choice(products_name),\n",
    "                \"precio\": random.choice(prices)\n",
    "            }\n",
    "            file.write(json.dumps(product) + ',\\n')\n",
    "        file.write(']')"
   ]
  },
  {
   "cell_type": "code",
   "execution_count": null,
   "metadata": {},
   "outputs": [],
   "source": []
  }
 ],
 "metadata": {
  "kernelspec": {
   "display_name": "base",
   "language": "python",
   "name": "python3"
  },
  "language_info": {
   "codemirror_mode": {
    "name": "ipython",
    "version": 3
   },
   "file_extension": ".py",
   "mimetype": "text/x-python",
   "name": "python",
   "nbconvert_exporter": "python",
   "pygments_lexer": "ipython3",
   "version": "3.8.13"
  },
  "orig_nbformat": 4
 },
 "nbformat": 4,
 "nbformat_minor": 2
}
